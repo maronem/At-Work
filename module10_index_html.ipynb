{
  "nbformat": 4,
  "nbformat_minor": 0,
  "metadata": {
    "colab": {
      "provenance": [],
      "collapsed_sections": [],
      "authorship_tag": "ABX9TyNoXu4SfU6U5Hl1Yb2nHizG",
      "include_colab_link": true
    },
    "kernelspec": {
      "name": "python3",
      "display_name": "Python 3"
    },
    "language_info": {
      "name": "python"
    }
  },
  "cells": [
    {
      "cell_type": "markdown",
      "metadata": {
        "id": "view-in-github",
        "colab_type": "text"
      },
      "source": [
        "<a href=\"https://colab.research.google.com/github/maronem/At-Work/blob/main/module10_index_html.ipynb\" target=\"_parent\"><img src=\"https://colab.research.google.com/assets/colab-badge.svg\" alt=\"Open In Colab\"/></a>"
      ]
    },
    {
      "cell_type": "code",
      "execution_count": null,
      "metadata": {
        "id": "4SS7RGkk4TKO"
      },
      "outputs": [],
      "source": [
        "<!DOCTYPE html>\n",
        "<html lang=\"en\">\n",
        "<head>\n",
        "    <meta charset=\"UTF-8\">\n",
        "    <meta http-equiv=\"X-UA-Compatible\" content=\"IE=edge\">\n",
        "    <meta name=\"viewport\" content=\"width=device-width, initial-scale=1.0\">\n",
        "    <title>Document</title>\n",
        "    <link\n",
        "    rel=\"stylesheet\"\n",
        "    href=\"https://maxcdn.bootstrapcdn.com/bootstrap/4.0.0/css/bootstrap.min.css\"\n",
        "    integrity=\"sha384-Gn5384xqQ1aoWXA+058RXPxPg6fy4IWvTNh0E263XmFcJlSAwiGgFAW/dAiS6JXm\"\n",
        "    crossorigin=\"anonymous\"\n",
        "        />\n",
        "    <link rel=\"stylesheet\" href=\"static/css/style.css\">\n",
        "</head>\n",
        "<body class=\"bg-dark\">\n",
        "    <div class=\"wrapper\">\n",
        "        <nav class = \"navbar navbar-dark bg-dark navbar-expand lg\">\n",
        "            <a class=\"navbar-brand\" href=\"index.html\">UFO Sightings</a>\n",
        "        </nav>\n",
        "    </div>\n",
        "\n",
        "    <div class=\"jumbotron\">\n",
        "        <h1 class=\"display-4\">The Truth Is Out There</h1>\n",
        "    </div>\n",
        "\n",
        "    <div class=\"container-fluid\">\n",
        "        <div class=\"row\">\n",
        "          <div class=\"col-md-3\">\n",
        "            <h3>UFO Sightings: Fact of Fancy? </h3>\n",
        "            <h3><small> Ufologists Weigh In</small></h3>\n",
        "          </div>\n",
        "          <div class=\"col-md-9\">\n",
        "            <p>\n",
        "              Are we alone in the universe? For millennia, humans have turned to the sky to answer this question. Now, thanks to research generously funded by W. Avy, a UFO-enthusiast and amateur ufologist, we can supplement our sky-searching with data analysis.<br><br>\"The release of this analysis is well-timed: It coincides with the celebration of World UFO Day, which is a moment for ufologists around the world to connect, relax, and sample a range of UFO-themed snacks,\" said Dr. Ursula F. Olivier, the world's preeminent expert on circular sightings. \"Citizen-scientists can be especially helpful in both cataloguing sightings—which is hugely helpful for us in our search for aliens—and in helping us celebrate the work that has already been done, such as this data visualization project, which will help us raise awareness of the ubiquity of sightings!\"<br><br>Not everyone is ready to celebrate, however. Local CEO and vocal anti-alien activist V. Isualize reached out to our reporters to go on record as firmly opposed to any attempts to provide access to this data. \"If there are aliens, they certainly would like to be left alone,\" she stated, before directing us to the Leave Aliens Alone (LAA) community engagement initiative she founded and funds.<br><br>So what do YOU think? Are we alone in the universe? Are aliens trying to contact us, or do they want to be left alone? Dig through the data yourself, and let us know what you see.\n",
        "\n",
        "\n",
        "            </p>\n",
        "          </div>\n",
        "        </div>\n",
        "    </div>\n",
        "\n",
        "    <div class=\"container-fluid\">\n",
        "        <div class=\"row\">\n",
        "            <div class=\"col-md-3\">\n",
        "                <form class=\"bg-dark\">\n",
        "                    <p>Filter Search</p>\n",
        "                <ul class=\"list-group bg-dark\">\n",
        "                    <li class=\"list-group-item bg-dark\">\n",
        "                        <label for=\"date\">Enter Date</label>\n",
        "                        <input type=\"text\" placeholder=\"1/10/2010\" id=\"datetime\"/>\n",
        "                    </li>\n",
        "                    <li class=\"list-group-item bg-dark\">\n",
        "                        <label for=\"city\">Enter City</label>\n",
        "                        <input type=\"text\" placeholder=\"Roswell\" id=\"city\"/>\n",
        "                    </li>\n",
        "                    <li class=\"list-group-item bg-dark\">\n",
        "                        <label for=\"state\">Enter State</label>\n",
        "                        <input type=\"text\" placeholder=\"CA\" id=\"state\"/>\n",
        "                    </li>\n",
        "                    <li class=\"list-group-item bg-dark\">\n",
        "                        <label for=\"country\">Enter Country</label>\n",
        "                        <input type=\"text\" placeholder=\"US\" id=\"country\"/>\n",
        "                    </li>\n",
        "                    <li class=\"list-group-item bg-dark\">\n",
        "                        <label for=\"shape\">Enter Shape</label>\n",
        "                        <input type=\"text\" placeholder=\"Circle\" id=\"shape\"/>\n",
        "                    </li>\n",
        "                </ul>\n",
        "                </form>\n",
        "            </div>\n",
        "            <div class=\"col-md-9\">\n",
        "                <div class=\"col-md-9\">\n",
        "                    <table class=\"table table-striped\">\n",
        "                      <thead>\n",
        "                        <tr>\n",
        "                          <th>Date</th>\n",
        "                          <th>City</th>\n",
        "                          <th>State</th>\n",
        "                          <th>Country</th>\n",
        "                          <th>Shape</th>\n",
        "                          <th>Duration</th>\n",
        "                          <th>Comments</th>\n",
        "                        </tr>\n",
        "                      </thead>\n",
        "                      <tbody></tbody>\n",
        "                    </table>\n",
        "                </div>\n",
        "\n",
        "            </div>\n",
        "        </div>\n",
        "    </div>\n",
        "\n",
        "<script src=\"https://cdnjs.cloudflare.com/ajax/libs/d3/4.11.0/d3.js\"></script>\n",
        "<script src=\"static/js/data.js\"></script>\n",
        "<script src=\"static/js/app.js\"></script>\n",
        "\n",
        "</body>\n",
        "</html>"
      ]
    },
    {
      "cell_type": "code",
      "source": [
        "Plotly.newPlot(\"plotArea\", [{x:[5,10,15], y:[10,20,30]}]);\n",
        "\n",
        "Plotly.newPlot(\"expoPlot\",[{x:[2,4,16], y:[3,9,27]}]);"
      ],
      "metadata": {
        "id": "rZU4dFApTYJC"
      },
      "execution_count": null,
      "outputs": []
    }
  ]
}